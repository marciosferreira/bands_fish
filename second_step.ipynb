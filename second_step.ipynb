{
 "cells": [
  {
   "cell_type": "code",
   "execution_count": 21,
   "metadata": {},
   "outputs": [
    {
     "data": {
      "text/html": [
       "<div>\n",
       "<style scoped>\n",
       "    .dataframe tbody tr th:only-of-type {\n",
       "        vertical-align: middle;\n",
       "    }\n",
       "\n",
       "    .dataframe tbody tr th {\n",
       "        vertical-align: top;\n",
       "    }\n",
       "\n",
       "    .dataframe thead th {\n",
       "        text-align: right;\n",
       "    }\n",
       "</style>\n",
       "<table border=\"1\" class=\"dataframe\">\n",
       "  <thead>\n",
       "    <tr style=\"text-align: right;\">\n",
       "      <th></th>\n",
       "      <th>percentage_fit</th>\n",
       "      <th>experiment_id</th>\n",
       "    </tr>\n",
       "  </thead>\n",
       "  <tbody>\n",
       "    <tr>\n",
       "      <th>0</th>\n",
       "      <td>71.363636</td>\n",
       "      <td>20210921_ip10-1_1</td>\n",
       "    </tr>\n",
       "    <tr>\n",
       "      <th>0</th>\n",
       "      <td>61.666667</td>\n",
       "      <td>20210921_ip10-1_2</td>\n",
       "    </tr>\n",
       "    <tr>\n",
       "      <th>0</th>\n",
       "      <td>76.282051</td>\n",
       "      <td>20210921_ip10-1_3</td>\n",
       "    </tr>\n",
       "    <tr>\n",
       "      <th>0</th>\n",
       "      <td>74.242424</td>\n",
       "      <td>20210921_ip10-1_4</td>\n",
       "    </tr>\n",
       "    <tr>\n",
       "      <th>0</th>\n",
       "      <td>57.342657</td>\n",
       "      <td>20210921_ip10-1_9</td>\n",
       "    </tr>\n",
       "    <tr>\n",
       "      <th>0</th>\n",
       "      <td>48.750000</td>\n",
       "      <td>20211116_HdrR_16_</td>\n",
       "    </tr>\n",
       "    <tr>\n",
       "      <th>0</th>\n",
       "      <td>55.769231</td>\n",
       "      <td>20211116_HdrR_18_</td>\n",
       "    </tr>\n",
       "    <tr>\n",
       "      <th>0</th>\n",
       "      <td>52.777778</td>\n",
       "      <td>20211116_HdrR_19_</td>\n",
       "    </tr>\n",
       "    <tr>\n",
       "      <th>0</th>\n",
       "      <td>7.142857</td>\n",
       "      <td>20211117_HdrR_1_M</td>\n",
       "    </tr>\n",
       "    <tr>\n",
       "      <th>0</th>\n",
       "      <td>62.500000</td>\n",
       "      <td>20211203_cab_3_MM</td>\n",
       "    </tr>\n",
       "  </tbody>\n",
       "</table>\n",
       "</div>"
      ],
      "text/plain": [
       "   percentage_fit      experiment_id\n",
       "0       71.363636  20210921_ip10-1_1\n",
       "0       61.666667  20210921_ip10-1_2\n",
       "0       76.282051  20210921_ip10-1_3\n",
       "0       74.242424  20210921_ip10-1_4\n",
       "0       57.342657  20210921_ip10-1_9\n",
       "0       48.750000  20211116_HdrR_16_\n",
       "0       55.769231  20211116_HdrR_18_\n",
       "0       52.777778  20211116_HdrR_19_\n",
       "0        7.142857  20211117_HdrR_1_M\n",
       "0       62.500000  20211203_cab_3_MM"
      ]
     },
     "execution_count": 21,
     "metadata": {},
     "output_type": "execute_result"
    }
   ],
   "source": [
    "mypath_results = \"C:/Users/marci/Documents/projetos_code/bands fish/videos/risa_videos/results/*\" \n",
    "import glob\n",
    "import pandas as pd\n",
    "import seaborn as sns\n",
    "import matplotlib.pyplot as plt\n",
    "import scikit_posthocs as sp\n",
    "\n",
    "\n",
    "    \n",
    "for idx, file in enumerate(glob.glob(mypath_results)):\n",
    "    data = pd.read_csv(file)\n",
    "    if idx == 0:\n",
    "        concatenated = data.copy()\n",
    "    else:\n",
    "         concatenated = concatenated.append(data)\n",
    "      \n",
    "   \n",
    "concatenated   \n",
    "\n"
   ]
  },
  {
   "cell_type": "code",
   "execution_count": 22,
   "metadata": {},
   "outputs": [
    {
     "data": {
      "text/plain": [
       "Text(0, 0.5, 'Percentage of fish which fits the expected velocity')"
      ]
     },
     "execution_count": 22,
     "metadata": {},
     "output_type": "execute_result"
    },
    {
     "data": {
      "image/png": "[encoded data removed]",
      "text/plain": [
       "<Figure size 1080x576 with 1 Axes>"
      ]
     },
     "metadata": {
      "needs_background": "light"
     },
     "output_type": "display_data"
    }
   ],
   "source": [
    "plt.figure(figsize = (15,8))\n",
    "ax = sns.barplot(x=concatenated['experiment_id'], y=concatenated['percentage_fit'])\n",
    "plt.xticks(rotation=45)\n",
    "ax.set_xlabel(\"Group Id\", fontsize = 20)\n",
    "ax.set_ylabel(\"Percentage of fish which fits the expected velocity\", fontsize = 18)\n",
    "#ax.set(xlabel='Group Id', ylabel='average of velocity in valids frames')\n",
    "\n",
    "\n",
    "\n"
   ]
  }
 ],
 "metadata": {
  "interpreter": {
   "hash": "fadc9219756e11fd840e5592eada9f4cf94429886fc0a39a859fba14bfecfba9"
  },
  "kernelspec": {
   "display_name": "Python 3.8.10 ('medaka_env')",
   "language": "python",
   "name": "python3"
  },
  "language_info": {
   "codemirror_mode": {
    "name": "ipython",
    "version": 3
   },
   "file_extension": ".py",
   "mimetype": "text/x-python",
   "name": "python",
   "nbconvert_exporter": "python",
   "pygments_lexer": "ipython3",
   "version": "3.8.10"
  },
  "orig_nbformat": 4
 },
 "nbformat": 4,
 "nbformat_minor": 2
}
